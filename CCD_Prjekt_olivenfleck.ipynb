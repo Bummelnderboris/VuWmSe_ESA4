{
 "cells": [
  {
   "attachments": {
    "building_pyramid.png": {
     "image/png": "[encoded data removed]"
    }
   },
   "cell_type": "markdown",
   "metadata": {},
   "source": [
    "CCD Checkliste:\\\n",
    "This 'CCD' checklist is written by a and for beginner/s in programming with the idea of enjoying coding. (The approach might not be the most effient one but according to Marc Hassenzahls importance of hedonic quality for interaction with objects, we have to think of aspects as the feelings of competence and autonomy; Hassenzahl derived this knowledge from the  selfdetermination theory by Richard M. Ryan und Edward L. Deci. (Note: Hassenzahl made some experiments to test which items of the self determination theory are also working meanwhile the interaction with objects; relatedness for example is not as important as the other also they are part of the self determination theory)\\\n",
    "\n",
    "The receipt shall let beginners just get started with coding, meanwhile feeling good. We achieve this by in first instance not caring to much about the propper datatypes or how it will work in the end, but focus the logic. Reduce the logic to the basic core, get started and then always adapt part by part until you have a neat programm, which is then ready for sacling as well.\\ \n",
    "To enable this let's suggest a list of thing to check.\n",
    "\n",
    "1.\tJust use it always!\\\n",
    "    1.1. Propper Naming\\\n",
    "    1.2. Propper Commentation\\\n",
    "    1.3. Avoid personal choices of variables and if necessary make it clear\\\n",
    "    1.4. Summarize as a text to read your approach in the beginn of every programm\n",
    "    \n",
    "2.\tUse it as much as possible\\\n",
    "    2.1. Split your code in as small logical blocks as possible.\\\n",
    "    2.2. Prefer logic which is easy to read over logic which is cheap to process\\\n",
    "3.\tCode with following the thought: „Simplicity is the Ultimate Sophistication!“ (DaVinci)\n",
    "4.\tUsing the most simple version of your logic, write in comments where you want to add complexity later on\n",
    "5. Explain what you want there to be if you have provisionals\n",
    "6. Start with scetching your logic (start writing by a Domain Driven Design)\n",
    "\n",
    "In one sentence: \n",
    "Write the most easy and most simple version of your logic, comment it propperly and just build on top, what is really needed!\n",
    "\n",
    "\n",
    "In one picture:\n",
    "![building_pyramid.png](attachment:building_pyramid.png)\n",
    "\n",
    "\n",
    "The idea of this receipt: As a beginner of coding we want to get our idea running but we don't want to have a huge roll back later on. So we keep it as simple as possible, also we can use provisional data types BUT only with comments to what we want them to be later on. When the most simple version is done we can start adapting the data types and eliminate the provisionals, after this is done we can add more complexity.\\\n",
    "-> Receipt: \\\n",
    "    a) Sketch your Domain Driven Design and mark the core part\\\n",
    "    b) Write the most simple version (the marked part of your DDD)(provisionals in data types are alowed BUT not within the logical structure)\\\n",
    "    c) Find the correct data types\\\n",
    "    d) Add complexity (unmarked part of your DDD + addings if they appeared)\n"
   ]
  },
  {
   "cell_type": "code",
   "execution_count": 1,
   "metadata": {},
   "outputs": [],
   "source": [
    "#Example\n",
    "\n",
    "# Projekt Olivenfleck\n",
    "# the following code snippet is part of an App-Idea in which people should be brought together according on their hobbies\n",
    "# with other words the idead is creating a social network based on interests and not self presentation\n",
    "# here we will have a look on a possible suggestion algorithm"
   ]
  },
  {
   "cell_type": "code",
   "execution_count": 2,
   "metadata": {},
   "outputs": [],
   "source": [
    "# Lets have a quick look on the core idea shown in a DDD\n",
    "from PIL import Image\n",
    "import requests\n",
    "from io import BytesIO\n",
    "\n",
    "response = requests.get(\"https://raw.githubusercontent.com/Bummelnderboris/VuWmSe_ESA4/master/bilder/OlivenfleckDDD.png\")\n",
    "img_DDD = Image.open(BytesIO(response.content))\n",
    "img_DDD.show()\n",
    "\n",
    "#so what do we need?\n",
    "#users, hobbies, location, activity catalog nerby you\n",
    "#REALIZATION here: The suggestions (in the DDD) is optional, following the explained principle we leave it for now"
   ]
  },
  {
   "cell_type": "code",
   "execution_count": 3,
   "metadata": {},
   "outputs": [],
   "source": [
    "#For the most simple version, we just creat statical three users, three hobbies and two locations.\n",
    "# Later on a user has a set location by it's gps coordinates and can select an amount off hobbies, for now we will just give the different users hobbies\n",
    "\n",
    "#lets get started woop woop!\n",
    "\n",
    "hobbies = [\"Chess\", \"Poems\", \"Snowboard\"]\n",
    "location = [(1,1), (5,5)]\n",
    "\n",
    "#Every user has 1 name, 1-n hobbies and 1 location\n",
    "user1= [1, \"Trick\",(hobbies[0],hobbies[1]),location[0]]\n",
    "user2= [2, \"Track\",(hobbies[2],hobbies[1]),location[0]]\n",
    "user3= [3, \"Tick\",(hobbies[1]),location[0]]\n",
    "users= [user1, user2, user3]\n",
    "##The id has to become a selforganizing counter for every new user."
   ]
  },
  {
   "cell_type": "code",
   "execution_count": 4,
   "metadata": {},
   "outputs": [
    {
     "data": {
      "text/plain": [
       "0.0"
      ]
     },
     "execution_count": 4,
     "metadata": {},
     "output_type": "execute_result"
    }
   ],
   "source": [
    "#the location is just important to know which users are around us, so we more likely need the distance of of different locations. Here let's take the euclidean distance\n",
    "#euclidean distance d between point a and b: d(a,b) = || a - b ||^2 = ((a_1-b_1)^2 + (a_2-b_2)^2)^0.5\n",
    "\n",
    "#CAREFULL: These coordinates are just a tuple for a x,y coordinate grid right now but we want them to be coordinates later to messure distance\n",
    "#But we now have a propper distance function\n",
    "\n",
    "def my_distance(location1, location2):\n",
    "        distance= ((location1[0]-location2[1])**2 +(location1[1]-location2[0])**2)**0.5\n",
    "        return(distance);\n",
    "        \n",
    "d = my_distance(user1[-1],user2[-1])\n",
    "d\n",
    "\n",
    "## The distance function"
   ]
  },
  {
   "cell_type": "code",
   "execution_count": 2,
   "metadata": {},
   "outputs": [
    {
     "ename": "NameError",
     "evalue": "name 'user1' is not defined",
     "output_type": "error",
     "traceback": [
      "\u001b[1;31m---------------------------------------------------------------------------\u001b[0m",
      "\u001b[1;31mNameError\u001b[0m                                 Traceback (most recent call last)",
      "\u001b[1;32m<ipython-input-2-a9e8271f1cd1>\u001b[0m in \u001b[0;36m<module>\u001b[1;34m\u001b[0m\n\u001b[0;32m     12\u001b[0m     \u001b[1;32mreturn\u001b[0m \u001b[0muser_List_around_you\u001b[0m\u001b[1;33m;\u001b[0m\u001b[1;33m\u001b[0m\u001b[1;33m\u001b[0m\u001b[0m\n\u001b[0;32m     13\u001b[0m \u001b[1;33m\u001b[0m\u001b[0m\n\u001b[1;32m---> 14\u001b[1;33m \u001b[0mprint\u001b[0m\u001b[1;33m(\u001b[0m\u001b[0mcatalog_for_user\u001b[0m\u001b[1;33m(\u001b[0m\u001b[1;33m)\u001b[0m\u001b[1;33m)\u001b[0m\u001b[1;33m;\u001b[0m\u001b[1;33m\u001b[0m\u001b[1;33m\u001b[0m\u001b[0m\n\u001b[0m\u001b[0;32m     15\u001b[0m \u001b[1;33m\u001b[0m\u001b[0m\n\u001b[0;32m     16\u001b[0m \u001b[1;31m##the raw logic of the idea stands we have to\u001b[0m\u001b[1;33m\u001b[0m\u001b[1;33m\u001b[0m\u001b[1;33m\u001b[0m\u001b[0m\n",
      "\u001b[1;32m<ipython-input-2-a9e8271f1cd1>\u001b[0m in \u001b[0;36mcatalog_for_user\u001b[1;34m()\u001b[0m\n\u001b[0;32m      2\u001b[0m \u001b[1;33m\u001b[0m\u001b[0m\n\u001b[0;32m      3\u001b[0m \u001b[1;32mdef\u001b[0m \u001b[0mcatalog_for_user\u001b[0m\u001b[1;33m(\u001b[0m\u001b[1;33m)\u001b[0m\u001b[1;33m:\u001b[0m\u001b[1;33m\u001b[0m\u001b[1;33m\u001b[0m\u001b[0m\n\u001b[1;32m----> 4\u001b[1;33m     \u001b[0mperson_to_check\u001b[0m \u001b[1;33m=\u001b[0m \u001b[0muser1\u001b[0m\u001b[1;33m;\u001b[0m\u001b[1;33m\u001b[0m\u001b[1;33m\u001b[0m\u001b[0m\n\u001b[0m\u001b[0;32m      5\u001b[0m     \u001b[0muser_List_around_you\u001b[0m\u001b[1;33m=\u001b[0m\u001b[1;33m[\u001b[0m\u001b[1;33m]\u001b[0m\u001b[1;33m\u001b[0m\u001b[1;33m\u001b[0m\u001b[0m\n\u001b[0;32m      6\u001b[0m \u001b[1;33m\u001b[0m\u001b[0m\n",
      "\u001b[1;31mNameError\u001b[0m: name 'user1' is not defined"
     ]
    }
   ],
   "source": [
    "# now we can write the catalogue for activities around a user\n",
    "\n",
    "def catalog_for_user():\n",
    "    person_to_check = user1;\n",
    "    user_List_around_you=[]\n",
    "    \n",
    "    for user in users:\n",
    "        if my_distance(user[-1], person_to_check[-1])<2:\n",
    "            user_List_around_you.append(user)\n",
    "    \n",
    "    del user_List_around_you[person_to_check[0]-1];\n",
    "    return user_List_around_you;\n",
    "\n",
    "print(catalog_for_user());\n",
    "\n",
    "##the raw logic of the idea stands we have to\n",
    "# now step by step let's assemble it an dhcekc where we will need "
   ]
  },
  {
   "cell_type": "code",
   "execution_count": 1,
   "metadata": {},
   "outputs": [],
   "source": [
    "## Okay now we have everything we need for the core construct. woop woop.\n",
    "## Let's put in appropriate datatypes/classes...\n",
    "## But let's do it in a different notebook "
   ]
  },
  {
   "cell_type": "code",
   "execution_count": 7,
   "metadata": {},
   "outputs": [
    {
     "name": "stdout",
     "output_type": "stream",
     "text": [
      "Collecting pybuilder\n",
      "  Downloading pybuilder-0.12.10-py3-none-any.whl (3.2 MB)\n",
      "Installing collected packages: pybuilder\n",
      "Successfully installed pybuilder-0.12.10\n",
      "Note: you may need to restart the kernel to use updated packages.\n"
     ]
    }
   ],
   "source": []
  },
  {
   "cell_type": "code",
   "execution_count": null,
   "metadata": {},
   "outputs": [],
   "source": []
  },
  {
   "cell_type": "code",
   "execution_count": null,
   "metadata": {},
   "outputs": [],
   "source": []
  }
 ],
 "metadata": {
  "kernelspec": {
   "display_name": "Python 3",
   "language": "python",
   "name": "python3"
  },
  "language_info": {
   "codemirror_mode": {
    "name": "ipython",
    "version": 3
   },
   "file_extension": ".py",
   "mimetype": "text/x-python",
   "name": "python",
   "nbconvert_exporter": "python",
   "pygments_lexer": "ipython3",
   "version": "3.7.6"
  }
 },
 "nbformat": 4,
 "nbformat_minor": 4
}
